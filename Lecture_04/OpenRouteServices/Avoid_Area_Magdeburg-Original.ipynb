{
 "cells": [
  {
   "cell_type": "markdown",
   "metadata": {},
   "source": [
    "# Combining Twitter Data and OpenRouteService Directions API"
   ]
  },
  {
   "cell_type": "markdown",
   "metadata": {},
   "source": [
    "In the case of a natural disaster like earthquakes or floods areas and streets can be blocked and not passable. Regular routes are not available and the accessibility of critical infrastructure might change. In the moment when a disaster happens, valid information on affected areas is often not immediately available. In these situations social media data can be a novel source of real-time data created by citizens living in the affected area. \n",
    "\n",
    "In the year 2013 there was a severe flood in the eastern part of Germany, which also affected the city of Magdeburg. This notebook will focus on a possible way to access important locations in such a disaster case. The OpenRouteService `direction` paramter can be used to receive the shortest or fastest route from A to B. This parameter offers the `avoid_polygons` feature which is suited to avoid blocked areas and to generate the shortes route in respect to the disaster situation.\n",
    "\n",
    "In this study Twitter data will be used, because of the location based information they offer in real time quality. Twitter data can be obtained via the [Twitter API](https://dev.twitter.com/apps)."
   ]
  },
  {
   "cell_type": "markdown",
   "metadata": {},
   "source": [
    "## Workflow\n",
    "\n",
    "- Preprocessing: Get Twitter data from 2013 and classify them into flood affected tweets and regular tweets.\n",
    "- Analysis: Compute two routes between two locations. One for a regular scenario and one for the case of a disaster with blocked streets.\n",
    "- Result: Visualize results on a map. "
   ]
  },
  {
   "cell_type": "markdown",
   "metadata": {},
   "source": [
    "## Preprocessing\n",
    "\n",
    "To get started load in all needed python packages, apply for your own [OpenRouteService API Key](https://openrouteservice.org/dev/#/signup) and download the Social media data.\n",
    "\n",
    "Each tweet includes information about the user, a timestamp, a message, if geolocated coordinates and further meta data. For this study we are only interessted in tweets concerning the flood event. Therefore we filter by keywords and hashtags. Tweets  related to the flood event are markek with 1, all remaining tweets with 0. (*Note: This is not done within this notebook. Make sure to provide this information already in your data set.*)"
   ]
  },
  {
   "cell_type": "code",
   "execution_count": 3,
   "metadata": {},
   "outputs": [],
   "source": [
    "import os\n",
    "\n",
    "import folium\n",
    "from folium import Map, Marker, LayerControl\n",
    "#from folium.plugins import MarkerCluster\n",
    "\n",
    "from openrouteservice import client\n",
    "\n",
    "import fiona as fn\n",
    "from shapely import geometry\n",
    "from shapely.geometry import shape, Polygon, mapping, MultiPolygon, LineString, Point\n",
    "from shapely.ops import cascaded_union, transform\n",
    "\n",
    "import pyproj"
   ]
  },
  {
   "cell_type": "code",
   "execution_count": 4,
   "metadata": {},
   "outputs": [],
   "source": [
    "# insert your ORS api key\n",
    "api_key = '5b3ce3597851110001cf6248bf801aa32b0b4124b48ff0dcef7ecc63' \n",
    "clnt = client.Client(key=api_key)\n",
    "\n",
    "# Twitter data from 2013\n",
    "tweet_file = 'tweets/tweets_magdeburg.shp'"
   ]
  },
  {
   "cell_type": "markdown",
   "metadata": {},
   "source": [
    "Tweets are represented as point geometries. We apply a buffer to the tweets to generate polygons. Street segments which overlap with a buffered tweet will be avoided. The upcoming function `CreateBufferPolygon` transforms point geometries from WGS84 (EPSG: 4326) to UTM32N (EPSG: 32632), creates a 20 meter buffer around each one and transforms the geometries back to WGS84.\n",
    "\n",
    "Futhermore, we create a function `CreateRoute` to request routes from the OpenRouteService Directions API. Besided the regular input (starting point, end point, profile, output format, profile) we pass `avoid_polygons` as an additional option.\n",
    "\n",
    "*Side Note: Applying a buffer directly to the point geometries without transforming the spatial reference system will lead to oval shapes. So, whenever you receive non round shapes after buffering consider changing the projection.*"
   ]
  },
  {
   "cell_type": "code",
   "execution_count": 5,
   "metadata": {},
   "outputs": [],
   "source": [
    "# Function to create buffer around tweet point geometries and transform it to the needed coordinate system (WGS84)\n",
    "def CreateBufferPolygon(point_in, resolution=2, radius=20):    \n",
    "    sr_wgs = pyproj.Proj(init='epsg:4326') # WGS84\n",
    "    sr_utm = pyproj.Proj(init='epsg:32632') # UTM32N\n",
    "    point_in_proj = pyproj.transform(sr_wgs, sr_utm, *point_in) # Unpack list to arguments\n",
    "    point_buffer_proj = Point(point_in_proj).buffer(radius, resolution=resolution) # 20 m buffer\n",
    "    \n",
    "    # Iterate over all points in buffer and build polygon\n",
    "    poly_wgs = []\n",
    "    for point in point_buffer_proj.exterior.coords:\n",
    "        poly_wgs.append(pyproj.transform(sr_utm, sr_wgs, *point)) # Transform back to WGS84\n",
    "        \n",
    "    return poly_wgs\n",
    "\n",
    "\n",
    "# Function to request directions with avoided_polygon feature\n",
    "def CreateRoute(avoided_point_list, n=0):\n",
    "    route_request = {'coordinates': coordinates, \n",
    "                    'format_out': 'geojson',\n",
    "                    'profile': 'driving-car',\n",
    "                    'preference': 'shortest',\n",
    "                    'instructions': False,\n",
    "                     'options': {'avoid_polygons': geometry.mapping(MultiPolygon(avoided_point_list))}} \n",
    "    route_directions = clnt.directions(**route_request)\n",
    "    \n",
    "    return route_directions\n",
    "\n",
    "\n",
    "# Function to create buffer around requested route\n",
    "def CreateBuffer(route_directions): \n",
    "    line_tup = []\n",
    "    for line in route_directions['features'][0]['geometry']['coordinates']:\n",
    "        tup_format = tuple(line)\n",
    "        line_tup.append(tup_format)  \n",
    "\n",
    "    new_linestring = LineString(line_tup)\n",
    "    dilated_route = new_linestring.buffer(0.001)\n",
    "        \n",
    "    return dilated_route"
   ]
  },
  {
   "cell_type": "markdown",
   "metadata": {},
   "source": [
    "## Analysis\n",
    "To get an overview of the received data we load in all data for the chosen time and area. We group the data into tweets related to the flood event (red) and other tweets (blue). Furthermore we are applying the CreateBufferPoylgon function to create buffer polygons using flood related tweets. "
   ]
  },
  {
   "cell_type": "code",
   "execution_count": 11,
   "metadata": {},
   "outputs": [
    {
     "ename": "DriverError",
     "evalue": "tweets/tweets_magdeburg.shp: No such file or directory",
     "output_type": "error",
     "traceback": [
      "\u001b[1;31m---------------------------------------------------------------------------\u001b[0m",
      "\u001b[1;31mCPLE_OpenFailedError\u001b[0m                      Traceback (most recent call last)",
      "\u001b[1;32mfiona/_shim.pyx\u001b[0m in \u001b[0;36mfiona._shim.gdal_open_vector\u001b[1;34m()\u001b[0m\n",
      "\u001b[1;32mfiona/_err.pyx\u001b[0m in \u001b[0;36mfiona._err.exc_wrap_pointer\u001b[1;34m()\u001b[0m\n",
      "\u001b[1;31mCPLE_OpenFailedError\u001b[0m: tweets/tweets_magdeburg.shp: No such file or directory",
      "\nDuring handling of the above exception, another exception occurred:\n",
      "\u001b[1;31mDriverError\u001b[0m                               Traceback (most recent call last)",
      "\u001b[1;32m<ipython-input-11-e54cd654fde2>\u001b[0m in \u001b[0;36m<module>\u001b[1;34m\u001b[0m\n\u001b[0;32m      7\u001b[0m \u001b[0mflood_tweets\u001b[0m \u001b[1;33m=\u001b[0m \u001b[1;33m[\u001b[0m\u001b[1;33m]\u001b[0m \u001b[1;31m# Flood affected tweets\u001b[0m\u001b[1;33m\u001b[0m\u001b[1;33m\u001b[0m\u001b[0m\n\u001b[0;32m      8\u001b[0m \u001b[0mtweet_geometry\u001b[0m \u001b[1;33m=\u001b[0m \u001b[1;33m[\u001b[0m\u001b[1;33m]\u001b[0m \u001b[1;31m# Simplify geometry of tweet buffer polygons\u001b[0m\u001b[1;33m\u001b[0m\u001b[1;33m\u001b[0m\u001b[0m\n\u001b[1;32m----> 9\u001b[1;33m \u001b[1;32mwith\u001b[0m \u001b[0mfn\u001b[0m\u001b[1;33m.\u001b[0m\u001b[0mopen\u001b[0m\u001b[1;33m(\u001b[0m\u001b[0mtweet_file\u001b[0m\u001b[1;33m,\u001b[0m \u001b[1;34m'r'\u001b[0m\u001b[1;33m)\u001b[0m \u001b[1;32mas\u001b[0m \u001b[0mtweet_data\u001b[0m\u001b[1;33m:\u001b[0m \u001b[1;31m# Open data in reading mode\u001b[0m\u001b[1;33m\u001b[0m\u001b[1;33m\u001b[0m\u001b[0m\n\u001b[0m\u001b[0;32m     10\u001b[0m     \u001b[0mprint\u001b[0m\u001b[1;33m(\u001b[0m\u001b[1;34m'{} tweets in total available.'\u001b[0m\u001b[1;33m.\u001b[0m\u001b[0mformat\u001b[0m\u001b[1;33m(\u001b[0m\u001b[0mlen\u001b[0m\u001b[1;33m(\u001b[0m\u001b[0mtweet_data\u001b[0m\u001b[1;33m)\u001b[0m\u001b[1;33m)\u001b[0m\u001b[1;33m)\u001b[0m\u001b[1;33m\u001b[0m\u001b[1;33m\u001b[0m\u001b[0m\n\u001b[0;32m     11\u001b[0m     \u001b[1;32mfor\u001b[0m \u001b[0mdata\u001b[0m \u001b[1;32min\u001b[0m \u001b[0mtweet_data\u001b[0m\u001b[1;33m:\u001b[0m\u001b[1;33m\u001b[0m\u001b[1;33m\u001b[0m\u001b[0m\n",
      "\u001b[1;32m~\\anaconda3\\envs\\GEO\\lib\\site-packages\\fiona\\env.py\u001b[0m in \u001b[0;36mwrapper\u001b[1;34m(*args, **kwargs)\u001b[0m\n\u001b[0;32m    407\u001b[0m             \u001b[1;32mwith\u001b[0m \u001b[0mEnv\u001b[0m\u001b[1;33m.\u001b[0m\u001b[0mfrom_defaults\u001b[0m\u001b[1;33m(\u001b[0m\u001b[0msession\u001b[0m\u001b[1;33m=\u001b[0m\u001b[0msession\u001b[0m\u001b[1;33m)\u001b[0m\u001b[1;33m:\u001b[0m\u001b[1;33m\u001b[0m\u001b[1;33m\u001b[0m\u001b[0m\n\u001b[0;32m    408\u001b[0m                 \u001b[0mlog\u001b[0m\u001b[1;33m.\u001b[0m\u001b[0mdebug\u001b[0m\u001b[1;33m(\u001b[0m\u001b[1;34m\"Credentialized: {!r}\"\u001b[0m\u001b[1;33m.\u001b[0m\u001b[0mformat\u001b[0m\u001b[1;33m(\u001b[0m\u001b[0mgetenv\u001b[0m\u001b[1;33m(\u001b[0m\u001b[1;33m)\u001b[0m\u001b[1;33m)\u001b[0m\u001b[1;33m)\u001b[0m\u001b[1;33m\u001b[0m\u001b[1;33m\u001b[0m\u001b[0m\n\u001b[1;32m--> 409\u001b[1;33m                 \u001b[1;32mreturn\u001b[0m \u001b[0mf\u001b[0m\u001b[1;33m(\u001b[0m\u001b[1;33m*\u001b[0m\u001b[0margs\u001b[0m\u001b[1;33m,\u001b[0m \u001b[1;33m**\u001b[0m\u001b[0mkwargs\u001b[0m\u001b[1;33m)\u001b[0m\u001b[1;33m\u001b[0m\u001b[1;33m\u001b[0m\u001b[0m\n\u001b[0m\u001b[0;32m    410\u001b[0m     \u001b[1;32mreturn\u001b[0m \u001b[0mwrapper\u001b[0m\u001b[1;33m\u001b[0m\u001b[1;33m\u001b[0m\u001b[0m\n\u001b[0;32m    411\u001b[0m \u001b[1;33m\u001b[0m\u001b[0m\n",
      "\u001b[1;32m~\\anaconda3\\envs\\GEO\\lib\\site-packages\\fiona\\__init__.py\u001b[0m in \u001b[0;36mopen\u001b[1;34m(fp, mode, driver, schema, crs, encoding, layer, vfs, enabled_drivers, crs_wkt, **kwargs)\u001b[0m\n\u001b[0;32m    255\u001b[0m         \u001b[1;32mif\u001b[0m \u001b[0mmode\u001b[0m \u001b[1;32min\u001b[0m \u001b[1;33m(\u001b[0m\u001b[1;34m'a'\u001b[0m\u001b[1;33m,\u001b[0m \u001b[1;34m'r'\u001b[0m\u001b[1;33m)\u001b[0m\u001b[1;33m:\u001b[0m\u001b[1;33m\u001b[0m\u001b[1;33m\u001b[0m\u001b[0m\n\u001b[0;32m    256\u001b[0m             c = Collection(path, mode, driver=driver, encoding=encoding,\n\u001b[1;32m--> 257\u001b[1;33m                            layer=layer, enabled_drivers=enabled_drivers, **kwargs)\n\u001b[0m\u001b[0;32m    258\u001b[0m         \u001b[1;32melif\u001b[0m \u001b[0mmode\u001b[0m \u001b[1;33m==\u001b[0m \u001b[1;34m'w'\u001b[0m\u001b[1;33m:\u001b[0m\u001b[1;33m\u001b[0m\u001b[1;33m\u001b[0m\u001b[0m\n\u001b[0;32m    259\u001b[0m             \u001b[1;32mif\u001b[0m \u001b[0mschema\u001b[0m\u001b[1;33m:\u001b[0m\u001b[1;33m\u001b[0m\u001b[1;33m\u001b[0m\u001b[0m\n",
      "\u001b[1;32m~\\anaconda3\\envs\\GEO\\lib\\site-packages\\fiona\\collection.py\u001b[0m in \u001b[0;36m__init__\u001b[1;34m(self, path, mode, driver, schema, crs, encoding, layer, vsi, archive, enabled_drivers, crs_wkt, ignore_fields, ignore_geometry, **kwargs)\u001b[0m\n\u001b[0;32m    162\u001b[0m             \u001b[1;32mif\u001b[0m \u001b[0mself\u001b[0m\u001b[1;33m.\u001b[0m\u001b[0mmode\u001b[0m \u001b[1;33m==\u001b[0m \u001b[1;34m'r'\u001b[0m\u001b[1;33m:\u001b[0m\u001b[1;33m\u001b[0m\u001b[1;33m\u001b[0m\u001b[0m\n\u001b[0;32m    163\u001b[0m                 \u001b[0mself\u001b[0m\u001b[1;33m.\u001b[0m\u001b[0msession\u001b[0m \u001b[1;33m=\u001b[0m \u001b[0mSession\u001b[0m\u001b[1;33m(\u001b[0m\u001b[1;33m)\u001b[0m\u001b[1;33m\u001b[0m\u001b[1;33m\u001b[0m\u001b[0m\n\u001b[1;32m--> 164\u001b[1;33m                 \u001b[0mself\u001b[0m\u001b[1;33m.\u001b[0m\u001b[0msession\u001b[0m\u001b[1;33m.\u001b[0m\u001b[0mstart\u001b[0m\u001b[1;33m(\u001b[0m\u001b[0mself\u001b[0m\u001b[1;33m,\u001b[0m \u001b[1;33m**\u001b[0m\u001b[0mkwargs\u001b[0m\u001b[1;33m)\u001b[0m\u001b[1;33m\u001b[0m\u001b[1;33m\u001b[0m\u001b[0m\n\u001b[0m\u001b[0;32m    165\u001b[0m             \u001b[1;32melif\u001b[0m \u001b[0mself\u001b[0m\u001b[1;33m.\u001b[0m\u001b[0mmode\u001b[0m \u001b[1;32min\u001b[0m \u001b[1;33m(\u001b[0m\u001b[1;34m'a'\u001b[0m\u001b[1;33m,\u001b[0m \u001b[1;34m'w'\u001b[0m\u001b[1;33m)\u001b[0m\u001b[1;33m:\u001b[0m\u001b[1;33m\u001b[0m\u001b[1;33m\u001b[0m\u001b[0m\n\u001b[0;32m    166\u001b[0m                 \u001b[0mself\u001b[0m\u001b[1;33m.\u001b[0m\u001b[0msession\u001b[0m \u001b[1;33m=\u001b[0m \u001b[0mWritingSession\u001b[0m\u001b[1;33m(\u001b[0m\u001b[1;33m)\u001b[0m\u001b[1;33m\u001b[0m\u001b[1;33m\u001b[0m\u001b[0m\n",
      "\u001b[1;32mfiona/ogrext.pyx\u001b[0m in \u001b[0;36mfiona.ogrext.Session.start\u001b[1;34m()\u001b[0m\n",
      "\u001b[1;32mfiona/_shim.pyx\u001b[0m in \u001b[0;36mfiona._shim.gdal_open_vector\u001b[1;34m()\u001b[0m\n",
      "\u001b[1;31mDriverError\u001b[0m: tweets/tweets_magdeburg.shp: No such file or directory"
     ]
    }
   ],
   "source": [
    "map_tweet = folium.Map(tiles='Stamen Toner', location=([52.136096, 11.635208]), zoom_start=14) # Create map\n",
    "\n",
    "def style_function(color): # To style data\n",
    "    return lambda feature: dict(color=color)\n",
    "\n",
    "counter = 0\n",
    "flood_tweets = [] # Flood affected tweets\n",
    "tweet_geometry = [] # Simplify geometry of tweet buffer polygons\n",
    "with fn.open(tweet_file, 'r') as tweet_data: # Open data in reading mode\n",
    "    print('{} tweets in total available.'.format(len(tweet_data)))\n",
    "    for data in tweet_data:\n",
    "        # Tweets which are not affected by the flood\n",
    "        if data['properties']['HOCHWASSER'] != 1:\n",
    "            counter += 1\n",
    "            folium.Marker(list(reversed(data['geometry']['coordinates'][0])),\n",
    "                          icon=folium.Icon(color='lightgray',\n",
    "                                        icon_color='blue',\n",
    "                                        icon='twitter',\n",
    "                                        prefix='fa'),\n",
    "                          popup='Regular Tweet').add_to(map_tweet)\n",
    "            \n",
    "        # Tweets which are affected by the flood\n",
    "        else:\n",
    "            folium.Marker(list(reversed(data['geometry']['coordinates'][0])),\n",
    "                          icon=folium.Icon(color='lightgray',\n",
    "                                        icon_color='red',\n",
    "                                        icon='twitter',\n",
    "                                        prefix='fa'),\n",
    "                          popup=data['properties']['tweet']).add_to(map_tweet)\n",
    "\n",
    "            # Create buffer polygons around affected sites with 20 m radius and low resolution\n",
    "            flood_tweet = CreateBufferPolygon(data['geometry']['coordinates'][0],\n",
    "                                           resolution=2, # low resolution to keep polygons lean\n",
    "                                           radius=20)\n",
    "            flood_tweets.append(flood_tweet)\n",
    "            \n",
    "            # Create simplify geometry and merge overlapping buffer regions\n",
    "            poly = Polygon(flood_tweet)  \n",
    "            tweet_geometry.append(poly)\n",
    "union_poly = mapping(cascaded_union(tweet_geometry)) \n",
    "                      \n",
    "folium.features.GeoJson(data=union_poly,\n",
    "                        name='Flood affected areas',\n",
    "                        style_function=style_function('#ffd699'),).add_to(map_tweet)\n",
    "\n",
    "print('{} regular tweets with no flood information avalibale.'.format(counter))\n",
    "print(len(flood_tweets), 'tweets with flood information available.')\n",
    "\n",
    "#map_tweet.save(os.path.join('results', '1_tweets.html'))\n",
    "map_tweet"
   ]
  },
  {
   "cell_type": "markdown",
   "metadata": {},
   "source": [
    "In the beginning we have created two functions, `CreateRoute` and `CreateBuffer`. The `CreateRoute` function requests the shortest route from A to B for the driving-car profile. It also avoids the tweets which are included in the avoided_point_list. This list is empty in the beginning.\n",
    "\n",
    "To check if a flood tweet overlaps the route, we generate a buffer around the requested route. If tweet and buffered route intersect, the tweet location will be appended to the `avoided_point_list`. For the next routing request these geometries will be avoided. This keeps doing until a shortest route is generated which does not intersect with any tweet. "
   ]
  },
  {
   "cell_type": "code",
   "execution_count": 12,
   "metadata": {
    "scrolled": false
   },
   "outputs": [
    {
     "name": "stdout",
     "output_type": "stream",
     "text": [
      "Generated regular route.\n",
      "Generated alternative route, which avoids affected areas.\n"
     ]
    },
    {
     "data": {
      "text/html": [
       "<div style=\"width:100%;\"><div style=\"position:relative;width:100%;height:0;padding-bottom:60%;\"><span style=\"color:#565656\">Make this Notebook Trusted to load map: File -> Trust Notebook</span><iframe src=\"about:blank\" style=\"position:absolute;width:100%;height:100%;left:0;top:0;border:none !important;\" data-html=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 onload=\"this.contentDocument.open();this.contentDocument.write(atob(this.getAttribute('data-html')));this.contentDocument.close();\" allowfullscreen webkitallowfullscreen mozallowfullscreen></iframe></div></div>"
      ],
      "text/plain": [
       "<folium.folium.Map at 0x1c9f9832e08>"
      ]
     },
     "execution_count": 12,
     "metadata": {},
     "output_type": "execute_result"
    }
   ],
   "source": [
    "# Visualize start and destination point on map\n",
    "coordinates = [[11.653361, 52.144116], [11.62847, 52.1303]] # Central Station and Fire Department\n",
    "for coord in coordinates:\n",
    "    folium.map.Marker(list(reversed(coord))).add_to(map_tweet)\n",
    "\n",
    "# Regular Route\n",
    "avoided_point_list = [] # Create empty list with avoided tweets\n",
    "route_directions = CreateRoute(avoided_point_list) # Create regular route with still empty avoided_point_list\n",
    "\n",
    "folium.features.GeoJson(data=route_directions,\n",
    "                        name='Regular Route',\n",
    "                        style_function=style_function('#ff5050'),\n",
    "                        overlay=True).add_to(map_tweet)\n",
    "print('Generated regular route.')\n",
    "\n",
    "# Avoiding tweets route\n",
    "dilated_route = CreateBuffer(route_directions) # Create buffer around route\n",
    "\n",
    "# Check if flood affected tweet is located on route\n",
    "try:\n",
    "    for site_poly in flood_tweets:\n",
    "        poly = Polygon(site_poly)\n",
    "        if poly.within(dilated_route):\n",
    "            avoided_point_list.append(poly)\n",
    "\n",
    "            # Create new route and buffer\n",
    "            route_directions = CreateRoute(avoided_point_list, 1)\n",
    "            dilated_route = CreateBuffer(route_directions)\n",
    "\n",
    "    folium.features.GeoJson(data=route_directions,\n",
    "                            name='Alternative Route',\n",
    "                            style_function=style_function('#006600'),\n",
    "                            overlay=True).add_to(map_tweet)\n",
    "    print('Generated alternative route, which avoids affected areas.')\n",
    "except Exception: \n",
    "    print('Sorry, there is no route available between the requested destination because of too many blocked streets.')\n",
    "\n",
    "#map_tweet.save(os.path.join('results', '2_routes.html'))\n",
    "map_tweet.add_child(folium.map.LayerControl())\n",
    "map_tweet"
   ]
  },
  {
   "cell_type": "markdown",
   "metadata": {},
   "source": [
    "## Conclusion\n",
    "In the case of a disaster fast response is importent and life saving. Information on blocked streets is crucial, but a the same time this infornations needs to be considered by routing engines in real-time. However, many routing engines use street network data which is at best updated once a week or even less often. For many proprietary routing engines which do not use OpenStreetMap data it is also hardly possible to figure out when the data was updated for the last time. \n",
    "\n",
    "To tackle this issue, we showed in this notebook how the direction feature `avoid_polygons` of the OpenRouteService API can be used. It allows to avoid certain areas (e.g. flood affected regions) and to request the fastest or shortest route for different kind of travel profiles (e.g. car or truck). we used Twitter data which offers real time location based point data which can be used as a fast ground truth information.\n",
    "\n",
    "\n",
    "*Side Note: Because of the limited length of a GET request, the avoid_polygons feature can currently handle just a limited number of polygons. Make sure not to exceed this limit to receive promising routing directions. And don't worry, we are addressing this issue also on our side. So stay tuned for future improvements of the OpenRouteService API.*"
   ]
  }
 ],
 "metadata": {
  "kernelspec": {
   "display_name": "Python 3",
   "language": "python",
   "name": "python3"
  },
  "language_info": {
   "codemirror_mode": {
    "name": "ipython",
    "version": 3
   },
   "file_extension": ".py",
   "mimetype": "text/x-python",
   "name": "python",
   "nbconvert_exporter": "python",
   "pygments_lexer": "ipython3",
   "version": "3.7.9"
  },
  "toc": {
   "base_numbering": 1,
   "nav_menu": {},
   "number_sections": true,
   "sideBar": true,
   "skip_h1_title": true,
   "title_cell": "Table of Contents",
   "title_sidebar": "Contents",
   "toc_cell": false,
   "toc_position": {},
   "toc_section_display": true,
   "toc_window_display": true
  }
 },
 "nbformat": 4,
 "nbformat_minor": 2
}
